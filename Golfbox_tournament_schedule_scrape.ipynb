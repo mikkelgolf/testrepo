{
  "nbformat": 4,
  "nbformat_minor": 0,
  "metadata": {
    "colab": {
      "provenance": [],
      "authorship_tag": "ABX9TyMyki+DKstCvzvVpwyCcEDd",
      "include_colab_link": true
    },
    "kernelspec": {
      "name": "python3",
      "display_name": "Python 3"
    },
    "language_info": {
      "name": "python"
    }
  },
  "cells": [
    {
      "cell_type": "markdown",
      "metadata": {
        "id": "view-in-github",
        "colab_type": "text"
      },
      "source": [
        "<a href=\"https://colab.research.google.com/github/mikkelgolf/testrepo/blob/main/Golfbox_tournament_schedule_scrape.ipynb\" target=\"_parent\"><img src=\"https://colab.research.google.com/assets/colab-badge.svg\" alt=\"Open In Colab\"/></a>"
      ]
    },
    {
      "cell_type": "code",
      "source": [
        "!pip install --upgrade pip\n",
        "!pip install playwright pandas\n",
        "!playwright install chromium\n"
      ],
      "metadata": {
        "colab": {
          "base_uri": "https://localhost:8080/"
        },
        "id": "3vzR2ChP3WmT",
        "outputId": "0c9d65ed-9a03-49e1-fba1-45c6f4367f3d"
      },
      "execution_count": 4,
      "outputs": [
        {
          "output_type": "stream",
          "name": "stdout",
          "text": [
            "Requirement already satisfied: pip in /usr/local/lib/python3.11/dist-packages (24.1.2)\n",
            "Collecting pip\n",
            "  Downloading pip-25.1.1-py3-none-any.whl.metadata (3.6 kB)\n",
            "Downloading pip-25.1.1-py3-none-any.whl (1.8 MB)\n",
            "\u001b[2K   \u001b[90m━━━━━━━━━━━━━━━━━━━━━━━━━━━━━━━━━━━━━━━━\u001b[0m \u001b[32m1.8/1.8 MB\u001b[0m \u001b[31m24.3 MB/s\u001b[0m eta \u001b[36m0:00:00\u001b[0m\n",
            "\u001b[?25hInstalling collected packages: pip\n",
            "  Attempting uninstall: pip\n",
            "    Found existing installation: pip 24.1.2\n",
            "    Uninstalling pip-24.1.2:\n",
            "      Successfully uninstalled pip-24.1.2\n",
            "Successfully installed pip-25.1.1\n",
            "Collecting playwright\n",
            "  Downloading playwright-1.52.0-py3-none-manylinux1_x86_64.whl.metadata (3.5 kB)\n",
            "Requirement already satisfied: pandas in /usr/local/lib/python3.11/dist-packages (2.2.2)\n",
            "Collecting pyee<14,>=13 (from playwright)\n",
            "  Downloading pyee-13.0.0-py3-none-any.whl.metadata (2.9 kB)\n",
            "Requirement already satisfied: greenlet<4.0.0,>=3.1.1 in /usr/local/lib/python3.11/dist-packages (from playwright) (3.2.3)\n",
            "Requirement already satisfied: typing-extensions in /usr/local/lib/python3.11/dist-packages (from pyee<14,>=13->playwright) (4.13.2)\n",
            "Requirement already satisfied: numpy>=1.23.2 in /usr/local/lib/python3.11/dist-packages (from pandas) (2.0.2)\n",
            "Requirement already satisfied: python-dateutil>=2.8.2 in /usr/local/lib/python3.11/dist-packages (from pandas) (2.9.0.post0)\n",
            "Requirement already satisfied: pytz>=2020.1 in /usr/local/lib/python3.11/dist-packages (from pandas) (2025.2)\n",
            "Requirement already satisfied: tzdata>=2022.7 in /usr/local/lib/python3.11/dist-packages (from pandas) (2025.2)\n",
            "Requirement already satisfied: six>=1.5 in /usr/local/lib/python3.11/dist-packages (from python-dateutil>=2.8.2->pandas) (1.17.0)\n",
            "Downloading playwright-1.52.0-py3-none-manylinux1_x86_64.whl (45.1 MB)\n",
            "\u001b[2K   \u001b[90m━━━━━━━━━━━━━━━━━━━━━━━━━━━━━━━━━━━━━━━━\u001b[0m \u001b[32m45.1/45.1 MB\u001b[0m \u001b[31m95.7 MB/s\u001b[0m eta \u001b[36m0:00:00\u001b[0m\n",
            "\u001b[?25hDownloading pyee-13.0.0-py3-none-any.whl (15 kB)\n",
            "Installing collected packages: pyee, playwright\n",
            "\u001b[2K   \u001b[90m━━━━━━━━━━━━━━━━━━━━━━━━━━━━━━━━━━━━━━━━\u001b[0m \u001b[32m2/2\u001b[0m [playwright]\n",
            "\u001b[1A\u001b[2KSuccessfully installed playwright-1.52.0 pyee-13.0.0\n",
            "Downloading Chromium 136.0.7103.25 (playwright build v1169)\u001b[2m from https://cdn.playwright.dev/dbazure/download/playwright/builds/chromium/1169/chromium-linux.zip\u001b[22m\n",
            "\u001b[1G167.7 MiB [] 0% 0.0s\u001b[0K\u001b[1G167.7 MiB [] 0% 23.9s\u001b[0K\u001b[1G167.7 MiB [] 0% 9.8s\u001b[0K\u001b[1G167.7 MiB [] 1% 4.4s\u001b[0K\u001b[1G167.7 MiB [] 2% 3.2s\u001b[0K\u001b[1G167.7 MiB [] 3% 2.6s\u001b[0K\u001b[1G167.7 MiB [] 4% 2.3s\u001b[0K\u001b[1G167.7 MiB [] 5% 2.1s\u001b[0K\u001b[1G167.7 MiB [] 5% 2.2s\u001b[0K\u001b[1G167.7 MiB [] 6% 2.1s\u001b[0K\u001b[1G167.7 MiB [] 7% 2.1s\u001b[0K\u001b[1G167.7 MiB [] 8% 2.0s\u001b[0K\u001b[1G167.7 MiB [] 9% 2.0s\u001b[0K\u001b[1G167.7 MiB [] 10% 1.9s\u001b[0K\u001b[1G167.7 MiB [] 11% 1.8s\u001b[0K\u001b[1G167.7 MiB [] 12% 1.8s\u001b[0K\u001b[1G167.7 MiB [] 13% 1.7s\u001b[0K\u001b[1G167.7 MiB [] 14% 1.7s\u001b[0K\u001b[1G167.7 MiB [] 15% 1.6s\u001b[0K\u001b[1G167.7 MiB [] 17% 1.6s\u001b[0K\u001b[1G167.7 MiB [] 18% 1.5s\u001b[0K\u001b[1G167.7 MiB [] 19% 1.5s\u001b[0K\u001b[1G167.7 MiB [] 20% 1.5s\u001b[0K\u001b[1G167.7 MiB [] 21% 1.5s\u001b[0K\u001b[1G167.7 MiB [] 22% 1.4s\u001b[0K\u001b[1G167.7 MiB [] 23% 1.4s\u001b[0K\u001b[1G167.7 MiB [] 25% 1.3s\u001b[0K\u001b[1G167.7 MiB [] 26% 1.3s\u001b[0K\u001b[1G167.7 MiB [] 27% 1.3s\u001b[0K\u001b[1G167.7 MiB [] 28% 1.3s\u001b[0K\u001b[1G167.7 MiB [] 29% 1.2s\u001b[0K\u001b[1G167.7 MiB [] 31% 1.2s\u001b[0K\u001b[1G167.7 MiB [] 33% 1.1s\u001b[0K\u001b[1G167.7 MiB [] 35% 1.1s\u001b[0K\u001b[1G167.7 MiB [] 36% 1.0s\u001b[0K\u001b[1G167.7 MiB [] 38% 1.0s\u001b[0K\u001b[1G167.7 MiB [] 39% 0.9s\u001b[0K\u001b[1G167.7 MiB [] 41% 0.9s\u001b[0K\u001b[1G167.7 MiB [] 43% 0.9s\u001b[0K\u001b[1G167.7 MiB [] 44% 0.9s\u001b[0K\u001b[1G167.7 MiB [] 45% 0.8s\u001b[0K\u001b[1G167.7 MiB [] 47% 0.8s\u001b[0K\u001b[1G167.7 MiB [] 48% 0.8s\u001b[0K\u001b[1G167.7 MiB [] 50% 0.7s\u001b[0K\u001b[1G167.7 MiB [] 52% 0.7s\u001b[0K\u001b[1G167.7 MiB [] 53% 0.7s\u001b[0K\u001b[1G167.7 MiB [] 55% 0.6s\u001b[0K\u001b[1G167.7 MiB [] 57% 0.6s\u001b[0K\u001b[1G167.7 MiB [] 58% 0.6s\u001b[0K\u001b[1G167.7 MiB [] 60% 0.6s\u001b[0K\u001b[1G167.7 MiB [] 61% 0.5s\u001b[0K\u001b[1G167.7 MiB [] 63% 0.5s\u001b[0K\u001b[1G167.7 MiB [] 65% 0.5s\u001b[0K\u001b[1G167.7 MiB [] 66% 0.4s\u001b[0K\u001b[1G167.7 MiB [] 67% 0.4s\u001b[0K\u001b[1G167.7 MiB [] 68% 0.4s\u001b[0K\u001b[1G167.7 MiB [] 70% 0.4s\u001b[0K\u001b[1G167.7 MiB [] 71% 0.4s\u001b[0K\u001b[1G167.7 MiB [] 72% 0.4s\u001b[0K\u001b[1G167.7 MiB [] 73% 0.4s\u001b[0K\u001b[1G167.7 MiB [] 74% 0.3s\u001b[0K\u001b[1G167.7 MiB [] 75% 0.3s\u001b[0K\u001b[1G167.7 MiB [] 77% 0.3s\u001b[0K\u001b[1G167.7 MiB [] 78% 0.3s\u001b[0K\u001b[1G167.7 MiB [] 79% 0.3s\u001b[0K\u001b[1G167.7 MiB [] 80% 0.3s\u001b[0K\u001b[1G167.7 MiB [] 82% 0.2s\u001b[0K\u001b[1G167.7 MiB [] 84% 0.2s\u001b[0K\u001b[1G167.7 MiB [] 85% 0.2s\u001b[0K\u001b[1G167.7 MiB [] 87% 0.2s\u001b[0K\u001b[1G167.7 MiB [] 88% 0.2s\u001b[0K\u001b[1G167.7 MiB [] 90% 0.1s\u001b[0K\u001b[1G167.7 MiB [] 91% 0.1s\u001b[0K\u001b[1G167.7 MiB [] 93% 0.1s\u001b[0K\u001b[1G167.7 MiB [] 95% 0.1s\u001b[0K\u001b[1G167.7 MiB [] 96% 0.0s\u001b[0K\u001b[1G167.7 MiB [] 97% 0.0s\u001b[0K\u001b[1G167.7 MiB [] 99% 0.0s\u001b[0K\u001b[1G167.7 MiB [] 100% 0.0s\u001b[0K\n",
            "Chromium 136.0.7103.25 (playwright build v1169) downloaded to /root/.cache/ms-playwright/chromium-1169\n",
            "Downloading FFMPEG playwright build v1011\u001b[2m from https://cdn.playwright.dev/dbazure/download/playwright/builds/ffmpeg/1011/ffmpeg-linux.zip\u001b[22m\n",
            "\u001b[1G2.3 MiB [] 0% 0.0s\u001b[0K\u001b[1G2.3 MiB [] 4% 0.4s\u001b[0K\u001b[1G2.3 MiB [] 18% 0.2s\u001b[0K\u001b[1G2.3 MiB [] 21% 0.3s\u001b[0K\u001b[1G2.3 MiB [] 24% 0.4s\u001b[0K\u001b[1G2.3 MiB [] 26% 0.4s\u001b[0K\u001b[1G2.3 MiB [] 29% 0.5s\u001b[0K\u001b[1G2.3 MiB [] 32% 0.5s\u001b[0K\u001b[1G2.3 MiB [] 35% 0.5s\u001b[0K\u001b[1G2.3 MiB [] 37% 0.5s\u001b[0K\u001b[1G2.3 MiB [] 40% 0.5s\u001b[0K\u001b[1G2.3 MiB [] 43% 0.5s\u001b[0K\u001b[1G2.3 MiB [] 46% 0.5s\u001b[0K\u001b[1G2.3 MiB [] 48% 0.5s\u001b[0K\u001b[1G2.3 MiB [] 51% 0.5s\u001b[0K\u001b[1G2.3 MiB [] 54% 0.4s\u001b[0K\u001b[1G2.3 MiB [] 57% 0.4s\u001b[0K\u001b[1G2.3 MiB [] 59% 0.4s\u001b[0K\u001b[1G2.3 MiB [] 62% 0.4s\u001b[0K\u001b[1G2.3 MiB [] 65% 0.4s\u001b[0K\u001b[1G2.3 MiB [] 68% 0.3s\u001b[0K\u001b[1G2.3 MiB [] 70% 0.3s\u001b[0K\u001b[1G2.3 MiB [] 73% 0.3s\u001b[0K\u001b[1G2.3 MiB [] 76% 0.3s\u001b[0K\u001b[1G2.3 MiB [] 79% 0.2s\u001b[0K\u001b[1G2.3 MiB [] 81% 0.2s\u001b[0K\u001b[1G2.3 MiB [] 84% 0.2s\u001b[0K\u001b[1G2.3 MiB [] 87% 0.1s\u001b[0K\u001b[1G2.3 MiB [] 90% 0.1s\u001b[0K\u001b[1G2.3 MiB [] 93% 0.1s\u001b[0K\u001b[1G2.3 MiB [] 95% 0.0s\u001b[0K\u001b[1G2.3 MiB [] 98% 0.0s\u001b[0K\u001b[1G2.3 MiB [] 100% 0.0s\u001b[0K\n",
            "FFMPEG playwright build v1011 downloaded to /root/.cache/ms-playwright/ffmpeg-1011\n",
            "Downloading Chromium Headless Shell 136.0.7103.25 (playwright build v1169)\u001b[2m from https://cdn.playwright.dev/dbazure/download/playwright/builds/chromium/1169/chromium-headless-shell-linux.zip\u001b[22m\n",
            "\u001b[1G101.4 MiB [] 0% 0.0s\u001b[0K\u001b[1G101.4 MiB [] 0% 20.5s\u001b[0K\u001b[1G101.4 MiB [] 0% 8.4s\u001b[0K\u001b[1G101.4 MiB [] 0% 5.2s\u001b[0K\u001b[1G101.4 MiB [] 1% 4.8s\u001b[0K\u001b[1G101.4 MiB [] 2% 3.7s\u001b[0K\u001b[1G101.4 MiB [] 2% 3.6s\u001b[0K\u001b[1G101.4 MiB [] 3% 3.4s\u001b[0K\u001b[1G101.4 MiB [] 4% 3.1s\u001b[0K\u001b[1G101.4 MiB [] 4% 3.0s\u001b[0K\u001b[1G101.4 MiB [] 5% 2.8s\u001b[0K\u001b[1G101.4 MiB [] 6% 2.7s\u001b[0K\u001b[1G101.4 MiB [] 7% 2.7s\u001b[0K\u001b[1G101.4 MiB [] 8% 2.6s\u001b[0K\u001b[1G101.4 MiB [] 8% 2.7s\u001b[0K\u001b[1G101.4 MiB [] 9% 2.6s\u001b[0K\u001b[1G101.4 MiB [] 9% 2.5s\u001b[0K\u001b[1G101.4 MiB [] 9% 2.7s\u001b[0K\u001b[1G101.4 MiB [] 10% 2.7s\u001b[0K\u001b[1G101.4 MiB [] 11% 2.6s\u001b[0K\u001b[1G101.4 MiB [] 12% 2.5s\u001b[0K\u001b[1G101.4 MiB [] 13% 2.4s\u001b[0K\u001b[1G101.4 MiB [] 14% 2.3s\u001b[0K\u001b[1G101.4 MiB [] 15% 2.2s\u001b[0K\u001b[1G101.4 MiB [] 16% 2.2s\u001b[0K\u001b[1G101.4 MiB [] 17% 2.1s\u001b[0K\u001b[1G101.4 MiB [] 18% 2.0s\u001b[0K\u001b[1G101.4 MiB [] 20% 1.9s\u001b[0K\u001b[1G101.4 MiB [] 21% 1.9s\u001b[0K\u001b[1G101.4 MiB [] 22% 1.8s\u001b[0K\u001b[1G101.4 MiB [] 23% 1.8s\u001b[0K\u001b[1G101.4 MiB [] 25% 1.7s\u001b[0K\u001b[1G101.4 MiB [] 26% 1.6s\u001b[0K\u001b[1G101.4 MiB [] 29% 1.5s\u001b[0K\u001b[1G101.4 MiB [] 31% 1.4s\u001b[0K\u001b[1G101.4 MiB [] 33% 1.3s\u001b[0K\u001b[1G101.4 MiB [] 35% 1.2s\u001b[0K\u001b[1G101.4 MiB [] 37% 1.1s\u001b[0K\u001b[1G101.4 MiB [] 39% 1.1s\u001b[0K\u001b[1G101.4 MiB [] 41% 1.0s\u001b[0K\u001b[1G101.4 MiB [] 42% 1.0s\u001b[0K\u001b[1G101.4 MiB [] 44% 0.9s\u001b[0K\u001b[1G101.4 MiB [] 45% 0.9s\u001b[0K\u001b[1G101.4 MiB [] 47% 0.9s\u001b[0K\u001b[1G101.4 MiB [] 49% 0.8s\u001b[0K\u001b[1G101.4 MiB [] 52% 0.7s\u001b[0K\u001b[1G101.4 MiB [] 54% 0.7s\u001b[0K\u001b[1G101.4 MiB [] 57% 0.6s\u001b[0K\u001b[1G101.4 MiB [] 59% 0.6s\u001b[0K\u001b[1G101.4 MiB [] 62% 0.5s\u001b[0K\u001b[1G101.4 MiB [] 64% 0.5s\u001b[0K\u001b[1G101.4 MiB [] 67% 0.4s\u001b[0K\u001b[1G101.4 MiB [] 69% 0.4s\u001b[0K\u001b[1G101.4 MiB [] 71% 0.4s\u001b[0K\u001b[1G101.4 MiB [] 73% 0.3s\u001b[0K\u001b[1G101.4 MiB [] 76% 0.3s\u001b[0K\u001b[1G101.4 MiB [] 78% 0.3s\u001b[0K\u001b[1G101.4 MiB [] 80% 0.2s\u001b[0K\u001b[1G101.4 MiB [] 83% 0.2s\u001b[0K\u001b[1G101.4 MiB [] 85% 0.2s\u001b[0K\u001b[1G101.4 MiB [] 88% 0.1s\u001b[0K\u001b[1G101.4 MiB [] 90% 0.1s\u001b[0K\u001b[1G101.4 MiB [] 93% 0.1s\u001b[0K\u001b[1G101.4 MiB [] 95% 0.1s\u001b[0K\u001b[1G101.4 MiB [] 98% 0.0s\u001b[0K\u001b[1G101.4 MiB [] 100% 0.0s\u001b[0K\n",
            "Chromium Headless Shell 136.0.7103.25 (playwright build v1169) downloaded to /root/.cache/ms-playwright/chromium_headless_shell-1169\n"
          ]
        }
      ]
    },
    {
      "cell_type": "code",
      "execution_count": 13,
      "metadata": {
        "colab": {
          "base_uri": "https://localhost:8080/",
          "height": 17
        },
        "id": "82gCbsCD2dH2",
        "outputId": "90cd0350-27d9-4c20-cb07-98fd2b01d3d2"
      },
      "outputs": [
        {
          "output_type": "display_data",
          "data": {
            "text/plain": [
              "<IPython.core.display.Javascript object>"
            ],
            "application/javascript": [
              "\n",
              "    async function download(id, filename, size) {\n",
              "      if (!google.colab.kernel.accessAllowed) {\n",
              "        return;\n",
              "      }\n",
              "      const div = document.createElement('div');\n",
              "      const label = document.createElement('label');\n",
              "      label.textContent = `Downloading \"${filename}\": `;\n",
              "      div.appendChild(label);\n",
              "      const progress = document.createElement('progress');\n",
              "      progress.max = size;\n",
              "      div.appendChild(progress);\n",
              "      document.body.appendChild(div);\n",
              "\n",
              "      const buffers = [];\n",
              "      let downloaded = 0;\n",
              "\n",
              "      const channel = await google.colab.kernel.comms.open(id);\n",
              "      // Send a message to notify the kernel that we're ready.\n",
              "      channel.send({})\n",
              "\n",
              "      for await (const message of channel.messages) {\n",
              "        // Send a message to notify the kernel that we're ready.\n",
              "        channel.send({})\n",
              "        if (message.buffers) {\n",
              "          for (const buffer of message.buffers) {\n",
              "            buffers.push(buffer);\n",
              "            downloaded += buffer.byteLength;\n",
              "            progress.value = downloaded;\n",
              "          }\n",
              "        }\n",
              "      }\n",
              "      const blob = new Blob(buffers, {type: 'application/binary'});\n",
              "      const a = document.createElement('a');\n",
              "      a.href = window.URL.createObjectURL(blob);\n",
              "      a.download = filename;\n",
              "      div.appendChild(a);\n",
              "      a.click();\n",
              "      div.remove();\n",
              "    }\n",
              "  "
            ]
          },
          "metadata": {}
        },
        {
          "output_type": "display_data",
          "data": {
            "text/plain": [
              "<IPython.core.display.Javascript object>"
            ],
            "application/javascript": [
              "download(\"download_1873ace8-f59c-4026-867b-683fbf52c4ce\", \"golfbox_tournaments.csv\", 8354)"
            ]
          },
          "metadata": {}
        }
      ],
      "source": [
        "import pandas as pd\n",
        "import re\n",
        "import nest_asyncio\n",
        "import asyncio\n",
        "from playwright.async_api import async_playwright\n",
        "from IPython.display import FileLink\n",
        "\n",
        "nest_asyncio.apply()  # Needed to run asyncio in Colab\n",
        "\n",
        "async def extract_tournaments():\n",
        "    tournaments = []\n",
        "    async with async_playwright() as p:\n",
        "        browser = await p.chromium.launch(headless=True)\n",
        "        context = await browser.new_context()\n",
        "        page = await context.new_page()\n",
        "        await page.goto('https://danish.golf/ecco-tour/livescore/#/schedule', timeout=60000)\n",
        "        await page.wait_for_timeout(7000)  # Wait for JS content to load\n",
        "\n",
        "        a_tags = await page.query_selector_all('a.competitionName')\n",
        "        for a in a_tags:\n",
        "            try:\n",
        "                # Name\n",
        "                div = await a.query_selector('div.truncate')\n",
        "                name = (await div.get_attribute('title')).strip() if div else ''\n",
        "\n",
        "                # Competition ID from onclick\n",
        "                onclick = await a.get_attribute('onclick')\n",
        "                comp_id_match = re.search(r'onCompetitionClick\\((\\d+)\\)', onclick or '')\n",
        "                comp_id = comp_id_match.group(1) if comp_id_match else ''\n",
        "\n",
        "                base_url = 'https://golfbox.no/livescoring/tour/?language=2057#/competition/'\n",
        "                livescoring_link = f\"{base_url}{comp_id}/leaderboard\"\n",
        "                players_link = f\"{base_url}{comp_id}/players\"\n",
        "\n",
        "                # --- NEW: Open players link and extract date and course ---\n",
        "                course = \"\"\n",
        "                comp_date = \"\"\n",
        "                try:\n",
        "                    page2 = await context.new_page()\n",
        "                    await page2.goto(players_link, timeout=30000)\n",
        "                    await page2.wait_for_timeout(2000)  # wait a little for content\n",
        "\n",
        "                    # Dates\n",
        "                    date_elem = await page2.query_selector('div.competition-date')\n",
        "                    comp_date = (await date_elem.inner_text()).strip() if date_elem else \"\"\n",
        "\n",
        "                    # Golf Course\n",
        "                    course_elem = await page2.query_selector('div.competition-subtitle')\n",
        "                    course = (await course_elem.inner_text()).strip() if course_elem else \"\"\n",
        "\n",
        "                    await page2.close()\n",
        "                except Exception as e:\n",
        "                    print(f\"Could not fetch extra details for {name}: {e}\")\n",
        "\n",
        "                tournaments.append({\n",
        "                    'Tournament Name': name,\n",
        "                    'Tournament Dates': comp_date,  # from players page (reliable)\n",
        "                    'Golf Course': course,\n",
        "                    'Players List Link': players_link,\n",
        "                    'Livescoring Link': livescoring_link\n",
        "                })\n",
        "            except Exception as e:\n",
        "                print(\"Skipped one:\", e)\n",
        "        await browser.close()\n",
        "    return tournaments\n",
        "\n",
        "# Run the async extraction in Colab\n",
        "data = asyncio.run(extract_tournaments())\n",
        "df = pd.DataFrame(data)\n",
        "csv_filename = 'golfbox_tournaments.csv'\n",
        "df.to_csv(csv_filename, index=False)\n",
        "FileLink(csv_filename)\n",
        "from google.colab import files\n",
        "files.download('golfbox_tournaments.csv')\n",
        "\n",
        "\n"
      ]
    }
  ]
}